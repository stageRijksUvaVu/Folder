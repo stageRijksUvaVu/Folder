{
 "cells": [
  {
   "cell_type": "code",
   "execution_count": null,
   "metadata": {
    "collapsed": true,
    "scrolled": true
   },
   "outputs": [],
   "source": [
    "# installs Prov-o directly!\n",
    "#!pip install prov[dot]"
   ]
  },
  {
   "cell_type": "code",
   "execution_count": 1,
   "metadata": {
    "collapsed": true
   },
   "outputs": [],
   "source": [
    "#imports prov for python\n",
    "from prov.model import ProvDocument"
   ]
  },
  {
   "cell_type": "code",
   "execution_count": 9,
   "metadata": {},
   "outputs": [],
   "source": [
    "#help(ProvDocument)\n",
    "#dir(ProvDocument)"
   ]
  },
  {
   "cell_type": "code",
   "execution_count": 2,
   "metadata": {
    "collapsed": true
   },
   "outputs": [],
   "source": [
    "#creates an empty provonance document\n",
    "rijksmuseum = ProvDocument()"
   ]
  },
  {
   "cell_type": "code",
   "execution_count": 3,
   "metadata": {},
   "outputs": [
    {
     "data": {
      "text/plain": [
       "<Namespace: Owner {http://www.example.org/rijks_prov#Owner}>"
      ]
     },
     "execution_count": 3,
     "metadata": {},
     "output_type": "execute_result"
    }
   ],
   "source": [
    "#add namespaces\n",
    "rijksmuseum.add_namespace('Identifier','https://www.example.org/rijks_prov#PersistentIdentifier')# (Persistent)Identifier, refers to a specific artwork\n",
    "rijksmuseum.add_namespace('Buyer','http://www.example.org/rijks_prov#Buyer')\n",
    "rijksmuseum.add_namespace('Sold','http://www.example.org/rijks_prov#Sold')\n",
    "rijksmuseum.add_namespace('Owner','http://www.example.org/rijks_prov#Owner')"
   ]
  },
  {
   "cell_type": "code",
   "execution_count": null,
   "metadata": {
    "collapsed": true
   },
   "outputs": [],
   "source": [
    "#namespaces/class Entity\n",
    "rijksmuseum.add_namespace('Identifier','https://www.example.org/rijks_prov#PersistentIdentifier')# (Persistent)Identifier, refers to a specific artwork\n",
    "rijksmuseum.add_namespace('Collection','https://www.example.org/rijks_prov#Collection')"
   ]
  },
  {
   "cell_type": "code",
   "execution_count": null,
   "metadata": {
    "collapsed": true
   },
   "outputs": [],
   "source": [
    "#namespaces/class Agent\n",
    "rijksmuseum.add_namespace('Organization','http://www.example.org/rijks_prov#Organization')\n",
    "rijksmuseum.add_namespace('Person','http://www.example.org/rijks_prov#Person')\n",
    "rijksmuseum.add_namespace('Owner','http://www.example.org/rijks_prov#Owner')\n",
    "rijksmuseum.add_namespace('Buyer','http://www.example.org/rijks_prov#Buyer')"
   ]
  },
  {
   "cell_type": "code",
   "execution_count": null,
   "metadata": {
    "collapsed": true
   },
   "outputs": [],
   "source": [
    "#namespaces/class Activity\n",
    "rijksmuseum.add_namespace('Auctioned','http://www.example.org/rijks_prov#Auctioned')\n",
    "rijksmuseum.add_namespace('Bought','http://www.example.org/rijks_prov#Bought')\n",
    "rijksmuseum.add_namespace('Sold','http://www.example.org/rijks_prov#Sold')\n",
    "rijksmuseum.add_namespace('Loan','http://www.example.org/rijks_prov#Loan')\n",
    "rijksmuseum.add_namespace('Bequeathed','http://www.example.org/rijks_prov#Bequeathed')"
   ]
  },
  {
   "cell_type": "code",
   "execution_count": null,
   "metadata": {
    "collapsed": true
   },
   "outputs": [],
   "source": [
    "#class/attribute\n",
    "rijksmuseum.add_namespace('Location','http://www.example.org/rijks_prov#Location')"
   ]
  },
  {
   "cell_type": "code",
   "execution_count": 4,
   "metadata": {},
   "outputs": [],
   "source": [
    "e1 = rijksmuseum.entity('Identifier:RM0001.COLLECT.5457')\n",
    "a1 = rijksmuseum.agent('Owner:Julius_Wilhelm_Edwin_vom_Rath', {'prov:type': 'Person'})\n",
    "activity1 = rijksmuseum.activity('Sold:_fl.5,531')\n",
    "a2 = rijksmuseum.agent('Buyer:Rijksmuseum', {'prov:type':'Organaization'})\n",
    "\n",
    "\n",
    "#print(e1,e2)"
   ]
  },
  {
   "cell_type": "code",
   "execution_count": 5,
   "metadata": {},
   "outputs": [
    {
     "name": "stdout",
     "output_type": "stream",
     "text": [
      "document\n",
      "  prefix Identifier <https://www.example.org/rijks_prov#PersistentIdentifier>\n",
      "  prefix Buyer <http://www.example.org/rijks_prov#Buyer>\n",
      "  prefix Sold <http://www.example.org/rijks_prov#Sold>\n",
      "  prefix Owner <http://www.example.org/rijks_prov#Owner>\n",
      "  \n",
      "  entity(Identifier:RM0001.COLLECT.5457)\n",
      "  agent(Owner:Julius_Wilhelm_Edwin_vom_Rath, [prov:type=\"Person\"])\n",
      "  activity(Sold:_fl.5,531, -, -)\n",
      "  agent(Buyer:Rijksmuseum, [prov:type=\"Organaization\"])\n",
      "  wasAttributedTo(Identifier:RM0001.COLLECT.5457, Owner:Julius_Wilhelm_Edwin_vom_Rath)\n",
      "  used(Sold:_fl.5,531, Identifier:RM0001.COLLECT.5457, -)\n",
      "  wasAssociatedWith(Sold:_fl.5,531, Owner:Julius_Wilhelm_Edwin_vom_Rath, -)\n",
      "  wasAttributedTo(Identifier:RM0001.COLLECT.5457, Buyer:Rijksmuseum)\n",
      "endDocument\n"
     ]
    }
   ],
   "source": [
    "rijksmuseum.wasAttributedTo(e1, a1)\n",
    "rijksmuseum.used(activity1, e1)\n",
    "rijksmuseum.wasAssociatedWith(activity1, a1)\n",
    "rijksmuseum.wasAttributedTo(e1, a2)\n",
    "print(rijksmuseum.get_provn())"
   ]
  },
  {
   "cell_type": "code",
   "execution_count": null,
   "metadata": {
    "collapsed": true
   },
   "outputs": [],
   "source": [
    "#from prov.dot import prov_to_dot\n",
    "#dot = prov_to_dot(rijksmuseum)\n",
    "#dot.write_png('testrijks.png')"
   ]
  },
  {
   "cell_type": "code",
   "execution_count": 6,
   "metadata": {
    "collapsed": true
   },
   "outputs": [],
   "source": [
    "rijksmuseum.serialize('test_file', format='rdf', rdf_format='ttl')"
   ]
  }
 ],
 "metadata": {
  "kernelspec": {
   "display_name": "Python 3",
   "language": "python",
   "name": "python3"
  },
  "language_info": {
   "codemirror_mode": {
    "name": "ipython",
    "version": 3
   },
   "file_extension": ".py",
   "mimetype": "text/x-python",
   "name": "python",
   "nbconvert_exporter": "python",
   "pygments_lexer": "ipython3",
   "version": "3.6.3"
  }
 },
 "nbformat": 4,
 "nbformat_minor": 2
}
