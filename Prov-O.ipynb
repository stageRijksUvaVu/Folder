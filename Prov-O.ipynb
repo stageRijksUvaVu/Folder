{
 "cells": [
  {
   "cell_type": "code",
   "execution_count": null,
   "metadata": {
    "collapsed": true,
    "scrolled": true
   },
   "outputs": [],
   "source": [
    "# installs Prov-o directly!\n",
    "#!pip install prov[dot]"
   ]
  },
  {
   "cell_type": "code",
   "execution_count": 1,
   "metadata": {
    "collapsed": true
   },
   "outputs": [],
   "source": [
    "from prov.model import ProvDocument"
   ]
  },
  {
   "cell_type": "code",
   "execution_count": null,
   "metadata": {},
   "outputs": [],
   "source": [
    "#help(ProvDocument)\n",
    "dir(ProvDocument)"
   ]
  },
  {
   "cell_type": "code",
   "execution_count": 2,
   "metadata": {
    "collapsed": true
   },
   "outputs": [],
   "source": [
    "#creates an empty provonance document\n",
    "rijksmuseum = ProvDocument()"
   ]
  },
  {
   "cell_type": "code",
   "execution_count": 3,
   "metadata": {},
   "outputs": [
    {
     "data": {
      "text/plain": [
       "<Namespace: Sold {http://www.example.org/rijks_prov#Sold}>"
      ]
     },
     "execution_count": 3,
     "metadata": {},
     "output_type": "execute_result"
    }
   ],
   "source": [
    "rijksmuseum.add_namespace('Identifier','https://www.example.org/rijks_prov#PersistentIdentifier')# (Persistent)Identifier, refers to a specific artwork\n",
    "rijksmuseum.add_namespace('Buyer','http://www.example.org/rijks_prov#Buyer')\n",
    "rijksmuseum.add_namespace('Sold','http://www.example.org/rijks_prov#Sold')\n"
   ]
  },
  {
   "cell_type": "code",
   "execution_count": null,
   "metadata": {
    "collapsed": true
   },
   "outputs": [],
   "source": [
    "#class Entity\n",
    "rijksmuseum.add_namespace('Identifier','https://www.example.org/rijks_prov#PersistentIdentifier')# (Persistent)Identifier, refers to a specific artwork\n",
    "rijksmuseum.add_namespace('Collection','https://www.example.org/rijks_prov#Collection')"
   ]
  },
  {
   "cell_type": "code",
   "execution_count": null,
   "metadata": {
    "collapsed": true
   },
   "outputs": [],
   "source": [
    "#class Agent\n",
    "rijksmuseum.add_namespace('Organization','http://www.example.org/rijks_prov#Organization')\n",
    "rijksmuseum.add_namespace('Person','http://www.example.org/rijks_prov#Person')\n",
    "rijksmuseum.add_namespace('Owner','http://www.example.org/rijks_prov#Owner')\n",
    "rijksmuseum.add_namespace('Buyer','http://www.example.org/rijks_prov#Buyer')"
   ]
  },
  {
   "cell_type": "code",
   "execution_count": null,
   "metadata": {
    "collapsed": true
   },
   "outputs": [],
   "source": [
    "#class Activity\n",
    "rijksmuseum.add_namespace('Bought','http://www.example.org/rijks_prov#Bought')\n",
    "rijksmuseum.add_namespace('Sold','http://www.example.org/rijks_prov#Sold')\n",
    "rijksmuseum.add_namespace('Loan','http://www.example.org/rijks_prov#Loan')\n",
    "rijksmuseum.add_namespace('Bequeathed','http://www.example.org/rijks_prov#Bought')"
   ]
  },
  {
   "cell_type": "code",
   "execution_count": null,
   "metadata": {
    "collapsed": true
   },
   "outputs": [],
   "source": [
    "#class?\n",
    "rijksmuseum.add_namespace('Location','http://www.example.org/rijks_prov#Location')"
   ]
  },
  {
   "cell_type": "code",
   "execution_count": 4,
   "metadata": {
    "collapsed": true
   },
   "outputs": [],
   "source": [
    "e1 = rijksmuseum.entity('Identifier:RM0001.COLLECT.5457')\n",
    "e2 = rijksmuseum.agent('Buyer:Julius_Wilhelm_Edwin_vom_Rath')\n",
    "e3 = rijksmuseum.activity('Sold:_fl.5,531')\n",
    "\n",
    "#print(e1,e2)"
   ]
  },
  {
   "cell_type": "code",
   "execution_count": 5,
   "metadata": {},
   "outputs": [
    {
     "name": "stdout",
     "output_type": "stream",
     "text": [
      "document\n",
      "  prefix Identifier <https://www.example.org/rijks_prov#PersistentIdentifier>\n",
      "  prefix Buyer <http://www.example.org/rijks_prov#Buyer>\n",
      "  prefix Sold <http://www.example.org/rijks_prov#Sold>\n",
      "  \n",
      "  entity(Identifier:RM0001.COLLECT.5457)\n",
      "  agent(Buyer:Julius_Wilhelm_Edwin_vom_Rath)\n",
      "  activity(Sold:_fl.5,531, -, -)\n",
      "  wasAttributedTo(Identifier:RM0001.COLLECT.5457, Buyer:Julius_Wilhelm_Edwin_vom_Rath)\n",
      "  used(Identifier:RM0001.COLLECT.5457, Sold:_fl.5,531, -)\n",
      "  wasAssociatedWith(Sold:_fl.5,531, Buyer:Julius_Wilhelm_Edwin_vom_Rath, -)\n",
      "endDocument\n"
     ]
    }
   ],
   "source": [
    "rijksmuseum.wasAttributedTo(e1, e2)\n",
    "rijksmuseum.used(e1, e3)\n",
    "rijksmuseum.wasAssociatedWith(e3, e2)\n",
    "print(rijksmuseum.get_provn())"
   ]
  },
  {
   "cell_type": "code",
   "execution_count": 6,
   "metadata": {},
   "outputs": [],
   "source": [
    "rijksmuseum.serialize('test_file', format='rdf', rdf_format='ttl')"
   ]
  }
 ],
 "metadata": {
  "kernelspec": {
   "display_name": "Python 3",
   "language": "python",
   "name": "python3"
  },
  "language_info": {
   "codemirror_mode": {
    "name": "ipython",
    "version": 3
   },
   "file_extension": ".py",
   "mimetype": "text/x-python",
   "name": "python",
   "nbconvert_exporter": "python",
   "pygments_lexer": "ipython3",
   "version": "3.6.3"
  }
 },
 "nbformat": 4,
 "nbformat_minor": 2
}
