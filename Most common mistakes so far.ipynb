{
 "cells": [
  {
   "cell_type": "markdown",
   "metadata": {},
   "source": [
    "Inheritance items most common mistakes:\n",
    "through often not spelled correctly and extra spaces where one would do, sometimes forgotten commas\n",
    "Examples:\n",
    "\n",
    "{Moes I, 1897, p. 428, no. 3559.} his son or grandson,  Jonkheer Ernest Louis Willy Marc Hoeufft, Lord of Velsen and Santpoort (1903-65), Meeuwen (near ’s-Hertogenbosch)\n",
    "* Extra space\n",
    "\n",
    "by descent hrough the family to Jonkheer Ernest Louis Willy Marc Hoeufft, Lord of Velsen and Santpoort (1903-65), Meeuwen\n",
    "* through misspelled"
   ]
  },
  {
   "cell_type": "markdown",
   "metadata": {},
   "source": [
    "Art market/dealer items most common mistakes: comma forgotten in about half of all the entries\n",
    "Examples:\n",
    "\n",
    "dealers Benjamin and Nathan Katz, Dieren, 1937, 1938\n",
    "* forgotten comma after dealers\n",
    "\n",
    "dealer P. de Boer, Amsterdam, 1963\n",
    "* forgotten comma after dealers"
   ]
  },
  {
   "cell_type": "code",
   "execution_count": null,
   "metadata": {
    "collapsed": true
   },
   "outputs": [],
   "source": []
  }
 ],
 "metadata": {
  "kernelspec": {
   "display_name": "Python 3",
   "language": "python",
   "name": "python3"
  },
  "language_info": {
   "codemirror_mode": {
    "name": "ipython",
    "version": 3
   },
   "file_extension": ".py",
   "mimetype": "text/x-python",
   "name": "python",
   "nbconvert_exporter": "python",
   "pygments_lexer": "ipython3",
   "version": "3.6.3"
  }
 },
 "nbformat": 4,
 "nbformat_minor": 2
}
