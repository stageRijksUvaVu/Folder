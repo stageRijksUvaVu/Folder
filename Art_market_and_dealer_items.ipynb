{
 "cells": [
  {
   "cell_type": "code",
   "execution_count": 30,
   "metadata": {},
   "outputs": [],
   "source": [
    "import os\n",
    "from lxml import etree\n",
    "doc = etree.parse('../Data/xml_data/provenance.xml')\n",
    "provenance = doc.findall('recordList/record/provenance/provenance.project.txt')\n",
    "for item in provenance:\n",
    "    if item.text == None:\n",
    "        provenance.remove(item)\n",
    "    else:\n",
    "        continue"
   ]
  },
  {
   "cell_type": "code",
   "execution_count": 31,
   "metadata": {
    "collapsed": true
   },
   "outputs": [],
   "source": [
    "#Kunsthandelaren\n",
    "\n",
    "#items with art dealers\n",
    "dealer_items = list()\n",
    "for elements in provenance:\n",
    "    element = elements.text\n",
    "    element_list = element.split(';')\n",
    "    for elem in element_list:\n",
    "        if elem.startswith(' dealer') or elem.startswith('dealer') or elem.startswith('Dealer') or elem.startswith(' Dealer'):\n",
    "            dealer_items.append(elem)\n",
    "        if 'art market' in elem:\n",
    "            dealer_items.append(elem)"
   ]
  },
  {
   "cell_type": "code",
   "execution_count": 14,
   "metadata": {},
   "outputs": [
    {
     "name": "stdout",
     "output_type": "stream",
     "text": [
      "[' dealer Jacques Goudstikker, November 1920', ' Dutch art market, c. 1920', ' dealers Benjamin and Nathan Katz, Dieren, 1937, 1938', \" Dealer cat. Katz 1938, p. 22, no. 86.} dealer The Schaeffer Galleries (Benjamin and Nathan Katz's American agent), New York, 1937, 1938\", ' dealer F. Kleinberger, Paris, 1903', ' dealers Benjamin and Nathan Katz, Dieren, 1937, 1938', \" Dealer cat. Katz 1938, p. 20, no. 78.} dealer The Schaeffer Galleries (Benjamin and Nathan Katz's American agent), New York, 1938-47\", ' dealer Basil Wheeler, London', ' dealer Han Jüngeling, The Hague (on loan to the Dordrechts Museum), 1960-63', ' dealer J. Goudstikker, Amsterdam, 1917', ' British art market', ' art market, 1954', ' dealer, P. Cassirer, Berlin, 1925', ' London art market, 1932', ' dealer, Pieter Joseph Thijs (1749-1825), Brussels, 1797', ' dealer, Peypers, Antwerp', ' dealer, A.H. Buttery, London, 1925', ' dealer, N. Steinmeyer, Cologne, c. 1902', ' acquired on the art market, England, by the dealer Jan Dirven, Eindhoven', ' from the art market, Munich, to R. Strohmayer, Bremen', ' dealer, Reinier Willem Petrus de Vries, Amsterdam, c. 1920', ' dealer P. de Boer, Amsterdam, 1963', ' Dutch art market, 1989-98', ' dealer, Tomas Harris, London, 1920', ' dealer, Galerie Fischer, Luzern, 1924', ' French art market, 1976', ' dealer, Edward Speelman, London 1937:{Photo RKD.} ...', ' dealer, P. Cassirer, Amsterdam, 1938']\n"
     ]
    }
   ],
   "source": [
    "print(dealer_items)"
   ]
  },
  {
   "cell_type": "code",
   "execution_count": 15,
   "metadata": {},
   "outputs": [
    {
     "name": "stdout",
     "output_type": "stream",
     "text": [
      " dealer Jacques Goudstikker, November 1920\n",
      " Dutch art market, c. 1920\n",
      " dealers Benjamin and Nathan Katz, Dieren, 1937, 1938\n",
      " Dealer cat. Katz 1938, p. 22, no. 86.} dealer The Schaeffer Galleries (Benjamin and Nathan Katz's American agent), New York, 1937, 1938\n",
      " dealer F. Kleinberger, Paris, 1903\n",
      " dealers Benjamin and Nathan Katz, Dieren, 1937, 1938\n",
      " Dealer cat. Katz 1938, p. 20, no. 78.} dealer The Schaeffer Galleries (Benjamin and Nathan Katz's American agent), New York, 1938-47\n",
      " dealer Basil Wheeler, London\n",
      " dealer Han Jüngeling, The Hague (on loan to the Dordrechts Museum), 1960-63\n",
      " dealer J. Goudstikker, Amsterdam, 1917\n",
      " British art market\n",
      " art market, 1954\n",
      " dealer, P. Cassirer, Berlin, 1925\n",
      " London art market, 1932\n",
      " dealer, Pieter Joseph Thijs (1749-1825), Brussels, 1797\n",
      " dealer, Peypers, Antwerp\n",
      " dealer, A.H. Buttery, London, 1925\n",
      " dealer, N. Steinmeyer, Cologne, c. 1902\n",
      " acquired on the art market, England, by the dealer Jan Dirven, Eindhoven\n",
      " from the art market, Munich, to R. Strohmayer, Bremen\n",
      " dealer, Reinier Willem Petrus de Vries, Amsterdam, c. 1920\n",
      " dealer P. de Boer, Amsterdam, 1963\n",
      " Dutch art market, 1989-98\n",
      " dealer, Tomas Harris, London, 1920\n",
      " dealer, Galerie Fischer, Luzern, 1924\n",
      " French art market, 1976\n",
      " dealer, Edward Speelman, London 1937:{Photo RKD.} ...\n",
      " dealer, P. Cassirer, Amsterdam, 1938\n"
     ]
    }
   ],
   "source": [
    "for item in dealer_items:\n",
    "    print(item)"
   ]
  },
  {
   "cell_type": "code",
   "execution_count": null,
   "metadata": {
    "collapsed": true
   },
   "outputs": [],
   "source": [
    "#objects to parse: name(s), place, date, possible source, possible description"
   ]
  },
  {
   "cell_type": "code",
   "execution_count": 95,
   "metadata": {},
   "outputs": [
    {
     "name": "stdout",
     "output_type": "stream",
     "text": [
      "Dutch art market, c. 1920\n",
      "Acquired on the Dutch art market in c. 1920.\n",
      "British art market\n",
      "Acquired on the British art market.\n",
      "art market, 1954\n",
      "Acquired on the art market in 1954.\n",
      "London art market, 1932\n",
      "Acquired on the London art market in 1932.\n",
      "acquired on the art market, England, by the dealer Jan Dirven, Eindhoven\n",
      "Acquired on the  art market in England, by the dealer Jan Dirven, Eindhoven.\n",
      "from the art market, Munich, to R. Strohmayer, Bremen\n",
      "Acquired on the  art market in Munich, sold to R. Strohmayer, Bremen.\n",
      "Dutch art market, 1989-98\n",
      "Acquired on the Dutch art market in 1989-98.\n",
      "French art market, 1976\n",
      "Acquired on the French art market in 1976.\n"
     ]
    }
   ],
   "source": [
    "for item in dealer_items:\n",
    "    art_market = ''\n",
    "    year = ''\n",
    "    place_deal = ''\n",
    "    buyer = ''\n",
    "    city_buyer = ''\n",
    "    dealer = ''\n",
    "    city_dealer = ''\n",
    "    #art market dealer unknown\n",
    "    if 'art market' in item:\n",
    "        items = item.split(',')\n",
    "        #it is an art market, start of description\n",
    "        art_market = items[0]\n",
    "        art_market = art_market.strip()\n",
    "        #is art market the only info?\n",
    "        if len(items) ==1:\n",
    "            proper_format = art_market\n",
    "            readable_sent = f\"Acquired on the {art_market}.\"\n",
    "            print(proper_format)\n",
    "            print(readable_sent)\n",
    "            continue\n",
    "        #year of dealing\n",
    "        year_test = items[1].replace('.', '').replace(' ', '').replace('-','')\n",
    "        if year_test.isalnum():\n",
    "            year = items[1]\n",
    "            year = year.strip()\n",
    "        #place of dealing\n",
    "        if items[1].isalpha():\n",
    "            place_deal = item[1]\n",
    "            place_deal = place_deal.strip()\n",
    "        #buyer or dealer (dealer working for buyer)\n",
    "        for item in items:\n",
    "            if 'to' in item:\n",
    "                buyer = item\n",
    "                buyer = buyer.strip()\n",
    "                buyer_index = items.index(item)\n",
    "                #city of buyer\n",
    "                city_buyer = items[buyer_index+1]\n",
    "                city_buyer = city_buyer.strip()\n",
    "            if 'by' and 'dealer' in item:\n",
    "                dealer = item\n",
    "                dealer = dealer.strip()\n",
    "                dealer_index = items.index(item)\n",
    "                #city of dealer\n",
    "                city_dealer = items[dealer_index+1]\n",
    "                city_dealer = city_dealer.strip()\n",
    "        #form proper formatted provenance sentence\n",
    "        proper_format = art_market\n",
    "        if year != '':\n",
    "            proper_format = f\"{proper_format}, {year}\"\n",
    "        if place_deal != '':\n",
    "            proper_format = f\"{proper_format}, {place_deal}\"\n",
    "        if buyer != '':\n",
    "            proper_format = f\"{proper_format}, {buyer}\"\n",
    "        if city_buyer != '':\n",
    "            proper_format = f\"{proper_format}, {city_buyer}\"\n",
    "        if dealer != '':\n",
    "            proper_format = f\"{proper_format}, {dealer}\"\n",
    "        if city_dealer != '':\n",
    "            proper_format = f\"{proper_format}, {city_dealer}\"\n",
    "        print(proper_format)\n",
    "        #form readable provenance sentence\n",
    "        readable_sent = ''\n",
    "        if 'acquired on' in art_market:\n",
    "            art_market = art_market.replace('acquired on the', '')\n",
    "        if 'from the' in art_market:\n",
    "            art_market = art_market.replace('from the', '')\n",
    "        #Acquired on the art market in year, place, by dealer, place, sold to, place\n",
    "        if art_market != '':\n",
    "            readable_sent = f\"Acquired on the {art_market}\"\n",
    "        if year != '':\n",
    "            readable_sent = f\"{readable_sent} in {year}\"\n",
    "        if place_deal != '':\n",
    "            readable_sent = f\"{readable_sent}, {place_deal}\"\n",
    "        if dealer != '':\n",
    "            readable_sent = f\"{readable_sent}, {dealer}\"\n",
    "        if city_dealer != '':\n",
    "            readable_sent = f\"{readable_sent}, {city_dealer}\"\n",
    "        if buyer != '':\n",
    "            readable_sent = f\"{readable_sent}, sold {buyer}\"\n",
    "        if city_buyer != '':\n",
    "            readable_sent = f\"{readable_sent}, {city_buyer}\"\n",
    "        readable_sent = f\"{readable_sent}.\"\n",
    "        print(readable_sent)\n",
    "    #art market dealer known\n",
    "    "
   ]
  },
  {
   "cell_type": "code",
   "execution_count": null,
   "metadata": {
    "collapsed": true
   },
   "outputs": [],
   "source": []
  }
 ],
 "metadata": {
  "kernelspec": {
   "display_name": "Python 3",
   "language": "python",
   "name": "python3"
  },
  "language_info": {
   "codemirror_mode": {
    "name": "ipython",
    "version": 3
   },
   "file_extension": ".py",
   "mimetype": "text/x-python",
   "name": "python",
   "nbconvert_exporter": "python",
   "pygments_lexer": "ipython3",
   "version": "3.6.3"
  }
 },
 "nbformat": 4,
 "nbformat_minor": 2
}
