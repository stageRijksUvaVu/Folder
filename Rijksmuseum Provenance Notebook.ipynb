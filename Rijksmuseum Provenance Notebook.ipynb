{
 "cells": [
  {
   "cell_type": "markdown",
   "metadata": {
    "collapsed": true
   },
   "source": [
    "# Provenance Rijksmuseum"
   ]
  },
  {
   "cell_type": "code",
   "execution_count": 1,
   "metadata": {
    "collapsed": true
   },
   "outputs": [],
   "source": [
    "import os\n",
    "from lxml import etree"
   ]
  },
  {
   "cell_type": "code",
   "execution_count": 2,
   "metadata": {
    "collapsed": true
   },
   "outputs": [],
   "source": [
    "#Ignore if xml file has already been downloaded\n",
    "github_link = 'https://github.com/stageRijksUvaVu/Folder'\n",
    "path_provenance_xml = '../Data/xml_data/provenance.xml'\n",
    "\n",
    "for path in [path_provenance_xml]:\n",
    "    assert os.path.exists(path), f'{path} does not exist. Please download it from {github_link}'"
   ]
  },
  {
   "cell_type": "code",
   "execution_count": 3,
   "metadata": {},
   "outputs": [
    {
     "name": "stdout",
     "output_type": "stream",
     "text": [
      "<class 'lxml.etree._ElementTree'>\n"
     ]
    }
   ],
   "source": [
    "doc = etree.parse('../Data/xml_data/provenance.xml')\n",
    "print(type(doc))"
   ]
  },
  {
   "cell_type": "code",
   "execution_count": 6,
   "metadata": {},
   "outputs": [
    {
     "name": "stdout",
     "output_type": "stream",
     "text": [
      "root:  <Element adlibXML at 0x21a40848208>\n",
      "\n",
      "\n",
      "\n"
     ]
    }
   ],
   "source": [
    "root = doc.getroot()\n",
    "print('root: ', root)\n",
    "print()\n",
    "print(root.text)"
   ]
  },
  {
   "cell_type": "code",
   "execution_count": 23,
   "metadata": {},
   "outputs": [
    {
     "name": "stdout",
     "output_type": "stream",
     "text": [
      "<provenance>\n",
      "<provenance.project.txt>…; collection H.R. van Maasdijk, The Hague, 1932;{Blankert 1991, note 6; note RKD.}…; private collection, The Hague, 1940;{Bloch 1940, p. 20.} …; private collection;{Blankert 1991, p. 507.}…; anonymous sale, The Hague (Glerum), 25 November 1991, no. 123, to the dealer R. Noortman for the museum</provenance.project.txt></provenance>\n",
      "\n",
      "<provenance>\n",
      "<provenance.project.txt>Purchased from the sitter by Anton Bernard Henny (1872-1958), 1896;{RMA Archive, R.W. van Hoey Smith, letter 12 July 1991.}; his grandnephew, Rudolph Willem van Hoey Smith (1923-95), Rockanje; from whom, fl. 6,000, to the museum, 1991</provenance.project.txt></provenance>\n",
      "\n",
      "<provenance>\n",
      "<provenance.project.txt>….; sale, Maria Susanna Theodora de Wildt (1766-1851, Leiden), Amsterdam (F. Muller), 9 December 1930, no. 251A, fl. 3,900, to the dealer Van Kuyk;{Copy RKD.}…; sale, A.W.M. Mensing(1866-1936, Amsterdam), Amsterdam (F. Muller), 17 November 1936 sqq., no. 9A;…; collection Bastiaan de Geus van den Heuvel (1886 - 1976) Amsterdam, 1952;{Amsterdam 1952, p. 47, no. 97.}; his sale, Amsterdam (F. Muller), 26 April 1976 sqq., no. 29;…; the dealer Nijstad, 1978;{Amsterdam 1984, p. 248.}…; collection H.W. Pleiter, The Hague;{Aanwinsten 1992, p. 292.}…; bequeathed by Cornelis Hendrik Koning (1912-1991), The Hague, to the museum, 1991</provenance.project.txt></provenance>\n",
      "\n",
      "<provenance>\n",
      "<provenance.project.txt>? Collection of the artist; his widow, Johanna Antonia Jacoba Przespolewski-Prisse (1921-2008), Breda; from whom, fl. 1,000, with two other drawings, to the museum, 1990</provenance.project.txt></provenance>\n",
      "\n",
      "<provenance>\n",
      "<provenance.project.txt>? Collection of the artist; his widow, Johanna Antonia Jacoba Przespolewski-Prisse (1921-2008), Breda; from whom, fl. 1,000, with two other drawings, to the museum, 1990</provenance.project.txt></provenance>\n",
      "\n"
     ]
    }
   ],
   "source": [
    "provenance_elements = doc.findall('recordList/record/provenance')\n",
    "\n",
    "for elements in provenance_elements[0:5]:\n",
    "    etree.dump(elements, pretty_print=True)\n",
    "    print()"
   ]
  },
  {
   "cell_type": "code",
   "execution_count": null,
   "metadata": {
    "collapsed": true
   },
   "outputs": [],
   "source": []
  }
 ],
 "metadata": {
  "kernelspec": {
   "display_name": "Python 3",
   "language": "python",
   "name": "python3"
  },
  "language_info": {
   "codemirror_mode": {
    "name": "ipython",
    "version": 3
   },
   "file_extension": ".py",
   "mimetype": "text/x-python",
   "name": "python",
   "nbconvert_exporter": "python",
   "pygments_lexer": "ipython3",
   "version": "3.6.3"
  }
 },
 "nbformat": 4,
 "nbformat_minor": 2
}
