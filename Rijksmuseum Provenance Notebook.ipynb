{
 "cells": [
  {
   "cell_type": "markdown",
   "metadata": {
    "collapsed": true
   },
   "source": [
    "# Provenance Rijksmuseum"
   ]
  },
  {
   "cell_type": "code",
   "execution_count": 2,
   "metadata": {
    "collapsed": true
   },
   "outputs": [],
   "source": [
    "import os\n",
    "from lxml import etree"
   ]
  },
  {
   "cell_type": "code",
   "execution_count": 3,
   "metadata": {},
   "outputs": [],
   "source": [
    "# ignore if downloaded\n",
    "github_link = 'https://github.com/stageRijksUvaVu/Folder'\n",
    "path_provenance_xml = '../Data/xml_data/provenance.xml'\n",
    "\n",
    "for path in [path_provenance_xml]:\n",
    "    assert os.path.exists(path), f'{path} does not exist. Please download it from {github_link}'"
   ]
  },
  {
   "cell_type": "code",
   "execution_count": 4,
   "metadata": {},
   "outputs": [
    {
     "name": "stdout",
     "output_type": "stream",
     "text": [
      "<class 'lxml.etree._ElementTree'>\n"
     ]
    }
   ],
   "source": [
    "doc = etree.parse('../Data/xml_data/provenance.xml')\n",
    "print(type(doc))"
   ]
  },
  {
   "cell_type": "code",
   "execution_count": 6,
   "metadata": {},
   "outputs": [
    {
     "name": "stdout",
     "output_type": "stream",
     "text": [
      "root:  <Element adlibXML at 0x21a40848208>\n",
      "\n",
      "\n",
      "\n"
     ]
    }
   ],
   "source": [
    "root = doc.getroot()\n",
    "print('root: ', root)\n",
    "print()\n",
    "print(root.text)"
   ]
  },
  {
   "cell_type": "code",
   "execution_count": 11,
   "metadata": {},
   "outputs": [
    {
     "name": "stdout",
     "output_type": "stream",
     "text": [
      "<Element provenance at 0x21a43947148>\n",
      "\n",
      "<provenance>\n",
      "<provenance.project.txt>…; collection H.R. van Maasdijk, The Hague, 1932;{Blankert 1991, note 6; note RKD.}…; private collection, The Hague, 1940;{Bloch 1940, p. 20.} …; private collection;{Blankert 1991, p. 507.}…; anonymous sale, The Hague (Glerum), 25 November 1991, no. 123, to the dealer R. Noortman for the museum</provenance.project.txt></provenance>\n"
     ]
    }
   ],
   "source": [
    "provenance_elements = doc.find('recordList/record/provenance')\n",
    "print(provenance_elements)\n",
    "print()\n",
    "etree.dump(provenance_elements, pretty_print=True)"
   ]
  },
  {
   "cell_type": "code",
   "execution_count": null,
   "metadata": {
    "collapsed": true
   },
   "outputs": [],
   "source": []
  }
 ],
 "metadata": {
  "kernelspec": {
   "display_name": "Python 3",
   "language": "python",
   "name": "python3"
  },
  "language_info": {
   "codemirror_mode": {
    "name": "ipython",
    "version": 3
   },
   "file_extension": ".py",
   "mimetype": "text/x-python",
   "name": "python",
   "nbconvert_exporter": "python",
   "pygments_lexer": "ipython3",
   "version": "3.6.3"
  }
 },
 "nbformat": 4,
 "nbformat_minor": 2
}
