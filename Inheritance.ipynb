{
 "cells": [
  {
   "cell_type": "code",
   "execution_count": 3,
   "metadata": {
    "collapsed": true
   },
   "outputs": [],
   "source": [
    "import os\n",
    "from lxml import etree \n",
    "doc = etree.parse('../Data/xml_data/provenance.xml')"
   ]
  },
  {
   "cell_type": "code",
   "execution_count": 4,
   "metadata": {},
   "outputs": [],
   "source": [
    "provenance = doc.findall('recordList/record/provenance/provenance.project.txt')\n",
    "for item in provenance:\n",
    "    if item.text == None:\n",
    "        provenance.remove(item)\n",
    "    else:\n",
    "        continue"
   ]
  },
  {
   "cell_type": "code",
   "execution_count": 10,
   "metadata": {
    "collapsed": true
   },
   "outputs": [],
   "source": [
    "bydescent_items = list()\n",
    "for elements in provenance:\n",
    "    element = elements.text\n",
    "    element_list = element.split(';')\n",
    "    for elem in element_list:\n",
    "        if 'by descent' in elem and not 'estate' in elem:\n",
    "            bydescent_items.append(elem)\n",
    "        else:\n",
    "            continue"
   ]
  },
  {
   "cell_type": "code",
   "execution_count": 67,
   "metadata": {},
   "outputs": [],
   "source": [
    "widow_items = list()\n",
    "for elements in provenance:\n",
    "    element = elements.text\n",
    "    element_list = element.split(';')\n",
    "    for elem in element_list:\n",
    "        if 'his widow' in elem and not 'estate' in elem:\n",
    "            widow_items.append(elem)\n",
    "        elif 'her widow' in elem and not 'estate' in elem:\n",
    "            widow_items.append(elem)\n",
    "        else:\n",
    "            continue"
   ]
  },
  {
   "cell_type": "code",
   "execution_count": 29,
   "metadata": {
    "collapsed": true
   },
   "outputs": [],
   "source": [
    "son_daughter_items = list()\n",
    "for elements in provenance:\n",
    "    element = elements.text\n",
    "    element_list = element.split(';')\n",
    "    for elem in element_list:\n",
    "        if 'his son' in elem and not 'estate' in elem:\n",
    "            son_daughter_items.append(elem)\n",
    "        if 'her son' in elem and not 'estate' in elem:\n",
    "            son_daughter_items.append(elem)\n",
    "        if 'his daughter' in elem and not 'estate' in elem:\n",
    "            son_daughter_items.append(elem)\n",
    "        if 'her daughter' in elem and not 'estate' in elem:\n",
    "            son_daughter_items.append(elem)"
   ]
  },
  {
   "cell_type": "code",
   "execution_count": 30,
   "metadata": {
    "collapsed": true
   },
   "outputs": [],
   "source": [
    "niece_nephew_items = list()\n",
    "for elements in provenance:\n",
    "    element = elements.text\n",
    "    element_list = element.split(';')\n",
    "    for elem in element_list:\n",
    "        if 'his niece' in elem and not 'estate' in elem:\n",
    "            niece_nephew_items.append(elem)\n",
    "        if 'her niece' in elem and not 'estate' in elem:\n",
    "            niece_nephew_items.append(elem)\n",
    "        if 'his nephew' in elem and not 'estate' in elem:\n",
    "            niece_nephew_items.append(elem)\n",
    "        if 'her nephew' in elem and not 'estate' in elem:\n",
    "            niece_nephew_items.append(elem)"
   ]
  },
  {
   "cell_type": "code",
   "execution_count": 7,
   "metadata": {},
   "outputs": [],
   "source": [
    "grand_items = list()\n",
    "for elements in provenance:\n",
    "    element = elements.text\n",
    "    element_list = element.split(';')\n",
    "    for elem in element_list:\n",
    "        if ' grand' in elem and not 'estate' in elem:\n",
    "            grand_items.append(elem)"
   ]
  },
  {
   "cell_type": "code",
   "execution_count": 13,
   "metadata": {},
   "outputs": [
    {
     "name": "stdout",
     "output_type": "stream",
     "text": [
      " ? by descent through the sitter’s family to Jonkheer Ir. Jacob Pompejus Ernst Hoeufft, Lord van Velsen en Santpoort (1842-1910), The Hague\n",
      " ? by descent  to his grandson,  Leonard Pieter Joseph Michielsen (1872-1944), The Hague\n",
      " ? by descent through the family of the sitter to  Jonkheer Ernest Louis Willy Marc Hoeufft, Lord of Velsen and Santpoort (1903-65), Meeuwen (near ’s-Hertogenbosch)\n",
      " ? by descent through the family of the sitter to  Jonkheer Ernest Louis Willy Marc Hoeufft, Lord of Velsen and Santpoort (1903-65), Meeuwen (near ’s-Hertogenbosch)\n",
      " ? by descent through the family to Burchard Theodoor Paets (1872-1938), Ede\n",
      " ? by descent to his sister, Rebecka van Heyst, née Leeuw (1671-1747), Amsterdam\n",
      " ? by descent through the family to Abraham Jacob Blaauw (1861-1945)\n"
     ]
    }
   ],
   "source": [
    "for items in bydescent_items[0:21]:\n",
    "    if '?' in items:\n",
    "        print(items)"
   ]
  },
  {
   "cell_type": "code",
   "execution_count": 139,
   "metadata": {},
   "outputs": [
    {
     "name": "stdout",
     "output_type": "stream",
     "text": [
      "Item:   ? by descent through the sitter’s family to Jonkheer Ir. Jacob Pompejus Ernst Hoeufft, Lord van Velsen en Santpoort (1842-1910), The Hague\n",
      "Proper format: ? by descent through the sitter’s family to Jonkheer Ir. Jacob Pompejus Ernst Hoeufft, Lord van Velsen en Santpoort (1842-1910), The Hague\n",
      "Readable sentence: Possibly inherited by descent through the sitter’s family by Jonkheer Ir. Jacob Pompejus Ernst Hoeufft, Lord van Velsen en Santpoort (1842-1910), The Hague.\n",
      "\n",
      "\n",
      "Item:   ? by descent  to his grandson,  Leonard Pieter Joseph Michielsen (1872-1944), The Hague\n",
      "Proper format: ? by descent to his grandson, Leonard Pieter Joseph Michielsen (1872-1944), The Hague\n",
      "Readable sentence: Possibly inherited by descent by his grandson,, Leonard Pieter Joseph Michielsen (1872-1944), The Hague.\n",
      "\n",
      "\n",
      "Item:   ? by descent through the family of the sitter to  Jonkheer Ernest Louis Willy Marc Hoeufft, Lord of Velsen and Santpoort (1903-65), Meeuwen (near ’s-Hertogenbosch)\n",
      "Proper format: ? by descent through the family of the sitter to Jonkheer Ernest Louis Willy Marc Hoeufft, Lord of Velsen and Santpoort (1903-65), Meeuwen (near ’s-Hertogenbosch)\n",
      "Readable sentence: Possibly inherited by descent through the family of the sitter by Jonkheer Ernest Louis Willy Marc Hoeufft, Lord of Velsen and Santpoort (1903-65), Meeuwen (near ’s-Hertogenbosch).\n",
      "\n",
      "\n",
      "Item:   ? by descent through the family of the sitter to  Jonkheer Ernest Louis Willy Marc Hoeufft, Lord of Velsen and Santpoort (1903-65), Meeuwen (near ’s-Hertogenbosch)\n",
      "Proper format: ? by descent through the family of the sitter to Jonkheer Ernest Louis Willy Marc Hoeufft, Lord of Velsen and Santpoort (1903-65), Meeuwen (near ’s-Hertogenbosch)\n",
      "Readable sentence: Possibly inherited by descent through the family of the sitter by Jonkheer Ernest Louis Willy Marc Hoeufft, Lord of Velsen and Santpoort (1903-65), Meeuwen (near ’s-Hertogenbosch).\n",
      "\n",
      "\n",
      "Item:   ? by descent through the family to Burchard Theodoor Paets (1872-1938), Ede\n",
      "Proper format: ? by descent through the family to Burchard Theodoor Paets (1872-1938), Ede\n",
      "Readable sentence: Possibly inherited by descent through the family by Burchard Theodoor Paets (1872-1938), Ede.\n",
      "\n",
      "\n",
      "Item:   ? by descent to his sister, Rebecka van Heyst, née Leeuw (1671-1747), Amsterdam\n",
      "Proper format: ? by descent to his sister, Rebecka van Heyst, née Leeuw (1671-1747), Amsterdam\n",
      "Readable sentence: Possibly inherited by descent by his sister,, Rebecka van Heyst, née Leeuw (1671-1747), Amsterdam.\n",
      "\n",
      "\n",
      "Item:   ? by descent through the family to Abraham Jacob Blaauw (1861-1945)\n",
      "Proper format: ? by descent through the family to Abraham Jacob Blaauw (1861-1945), Abraham Jacob Blaauw (1861-1945)\n",
      "Readable sentence: Possibly inherited by descent through the family by Abraham Jacob Blaauw (1861-1945), Abraham Jacob Blaauw (1861-1945).\n",
      "\n",
      "\n",
      "Item:   ? by descent to Frans de Wildt (1805-69), Leiden\n",
      "Proper format: ? by descent to Frans de Wildt (1805-69), Leiden\n",
      "Readable sentence: Possibly inherited by descent by Frans de Wildt (1805-69), Leiden.\n",
      "\n",
      "\n"
     ]
    }
   ],
   "source": [
    "#by descent items\n",
    "for item in bydescent_items[0:31]:\n",
    "    through = False\n",
    "    through_name = ''\n",
    "    family_relation = ''\n",
    "    to_name = ''\n",
    "    to_extra = ''\n",
    "    date = ''\n",
    "    place = ''\n",
    "    source = ''\n",
    "    #by descent items if not certain\n",
    "    if item.startswith(' ?') or item.startswith('?'):\n",
    "        print('Item: ', item)\n",
    "        through_split = item.split(' through ')\n",
    "        if len(through_split) != 1:\n",
    "            through = True\n",
    "            to_split = through_split[1].split(' to ')\n",
    "            through_name = to_split[0].strip()\n",
    "        to_split = item.split(' to ')\n",
    "        if len(to_split) >1:\n",
    "            comma_split = to_split[1].split(',')\n",
    "            if '1' not in comma_split[-1] or '2' not in comma_split[-1]:\n",
    "                place = comma_split[-1].strip()\n",
    "            for elem in comma_split:\n",
    "                if len(comma_split) >1:\n",
    "                    if 'his ' in elem or 'her ' in elem:\n",
    "                        family_relation = elem.strip()\n",
    "                    if family_relation != '':\n",
    "                        to_name = comma_split[1].split('(')\n",
    "                        to_name = to_name[0].strip()\n",
    "                        if len(comma_split) >2:\n",
    "                            if '(' in comma_split[2]:\n",
    "                                to_extra = comma_split[2].split('(')\n",
    "                                to_extra = to_extra[0].strip()\n",
    "                    if family_relation == '': \n",
    "                        to_name = comma_split[0].split('(')\n",
    "                        to_name = to_name[0].strip()\n",
    "                        if '(' in comma_split[1]:\n",
    "                            to_extra = comma_split[1].split('(')\n",
    "                            to_extra = to_extra[0].strip()\n",
    "                if len(comma_split) == 1:\n",
    "                    to_split = comma_split[0].split(' to ')\n",
    "                    to_name = to_split[0].split('(')\n",
    "                    to_name = to_name[0].strip()\n",
    "        para_split = item.split('(')\n",
    "        for item in para_split:\n",
    "            if ')' in item:\n",
    "                comma_split = item.split(',')\n",
    "                for item in comma_split:\n",
    "                    if item.replace('-', '').replace(')','').isnumeric():\n",
    "                        date = item.replace(')', '').strip()\n",
    "        curly_split = item.split('{')\n",
    "        if len(curly_split) >1:\n",
    "            source = curly_split[1].replace('}','')\n",
    "            source = '{',source,'}'\n",
    "        if to_name == place:\n",
    "            place = ''\n",
    "        #form proper formatted provenance sentence\n",
    "        proper_format = '? by descent'\n",
    "        if through:\n",
    "            proper_format = f\"{proper_format} through {through_name}\"\n",
    "        if family_relation != '':\n",
    "            proper_format = f\"{proper_format} to {family_relation},\"\n",
    "        if to_name != '' and family_relation == '':\n",
    "            proper_format = f\"{proper_format} to {to_name}\"\n",
    "        if to_name != '' and family_relation != '':\n",
    "            proper_format = f\"{proper_format} {to_name}\"\n",
    "        if to_extra != '':\n",
    "            proper_format = f\"{proper_format}, {to_extra}\"\n",
    "        if date != '':\n",
    "            proper_format = f\"{proper_format} ({date})\"\n",
    "        if place != '':\n",
    "            proper_format = f\"{proper_format}, {place}\"\n",
    "        if source != '':\n",
    "            proper_format = f\"{proper_format} {source}\"\n",
    "        print('Proper format:',proper_format)\n",
    "        #form readable provenance sentence\n",
    "        readable_sent = 'Possibly inherited by descent'\n",
    "        if through:\n",
    "            readable_sent = f\"{readable_sent} through {through_name}\"\n",
    "        if family_relation != '':\n",
    "            readable_sent = f\"{readable_sent} by {family_relation},\"\n",
    "        if to_name != '' and family_relation == '':\n",
    "            readable_sent =f\"{readable_sent} by {to_name}\"\n",
    "        if to_name != '' and family_relation != '':\n",
    "            readable_sent = f\"{readable_sent}, {to_name}\"\n",
    "        if to_extra != '':\n",
    "            readable_sent = f\"{readable_sent}, {to_extra}\"\n",
    "        if date != '':\n",
    "            readable_sent = f\"{readable_sent} ({date})\"\n",
    "        if place != '':\n",
    "            readable_sent = f\"{readable_sent}, {place}\"\n",
    "        readable_sent = f\"{readable_sent}.\"\n",
    "        print('Readable sentence:', readable_sent)\n",
    "        print('\\n')"
   ]
  },
  {
   "cell_type": "code",
   "execution_count": null,
   "metadata": {
    "collapsed": true
   },
   "outputs": [],
   "source": []
  },
  {
   "cell_type": "code",
   "execution_count": null,
   "metadata": {
    "collapsed": true
   },
   "outputs": [],
   "source": []
  }
 ],
 "metadata": {
  "kernelspec": {
   "display_name": "Python 3",
   "language": "python",
   "name": "python3"
  },
  "language_info": {
   "codemirror_mode": {
    "name": "ipython",
    "version": 3
   },
   "file_extension": ".py",
   "mimetype": "text/x-python",
   "name": "python",
   "nbconvert_exporter": "python",
   "pygments_lexer": "ipython3",
   "version": "3.6.3"
  }
 },
 "nbformat": 4,
 "nbformat_minor": 2
}
