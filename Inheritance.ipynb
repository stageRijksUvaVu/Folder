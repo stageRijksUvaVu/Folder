{
 "cells": [
  {
   "cell_type": "code",
   "execution_count": 1,
   "metadata": {
    "collapsed": true
   },
   "outputs": [],
   "source": [
    "import os\n",
    "from lxml import etree \n",
    "doc = etree.parse('../Data/xml_data/provenance.xml')"
   ]
  },
  {
   "cell_type": "code",
   "execution_count": 2,
   "metadata": {
    "collapsed": true
   },
   "outputs": [],
   "source": [
    "provenance = doc.findall('recordList/record/provenance/provenance.project.txt')\n",
    "for item in provenance:\n",
    "    if item.text == None:\n",
    "        provenance.remove(item)\n",
    "    else:\n",
    "        continue"
   ]
  },
  {
   "cell_type": "code",
   "execution_count": 27,
   "metadata": {
    "collapsed": true
   },
   "outputs": [],
   "source": [
    "bydescent_items = list()\n",
    "for elements in provenance:\n",
    "    element = elements.text\n",
    "    element_list = element.split(';')\n",
    "    for elem in element_list:\n",
    "        if 'by descent' in elem and not 'estate' in elem:\n",
    "            bydescent_items.append(elem)\n",
    "        else:\n",
    "            continue"
   ]
  },
  {
   "cell_type": "code",
   "execution_count": 28,
   "metadata": {
    "collapsed": true
   },
   "outputs": [],
   "source": [
    "widow_items = list()\n",
    "for elements in provenance:\n",
    "    element = elements.text\n",
    "    element_list = element.split(';')\n",
    "    for elem in element_list:\n",
    "        if 'his widow' in elem and not 'estate' in elem:\n",
    "            widow_items.append(elem)\n",
    "        elif 'her widow' in elem and not 'estate' in elem:\n",
    "            widow_items.append(elem)\n",
    "        else:\n",
    "            continue"
   ]
  },
  {
   "cell_type": "code",
   "execution_count": 29,
   "metadata": {
    "collapsed": true
   },
   "outputs": [],
   "source": [
    "son_daughter_items = list()\n",
    "for elements in provenance:\n",
    "    element = elements.text\n",
    "    element_list = element.split(';')\n",
    "    for elem in element_list:\n",
    "        if 'his son' in elem and not 'estate' in elem:\n",
    "            son_daughter_items.append(elem)\n",
    "        if 'her son' in elem and not 'estate' in elem:\n",
    "            son_daughter_items.append(elem)\n",
    "        if 'his daughter' in elem and not 'estate' in elem:\n",
    "            son_daughter_items.append(elem)\n",
    "        if 'her daughter' in elem and not 'estate' in elem:\n",
    "            son_daughter_items.append(elem)"
   ]
  },
  {
   "cell_type": "code",
   "execution_count": 30,
   "metadata": {
    "collapsed": true
   },
   "outputs": [],
   "source": [
    "niece_nephew_items = list()\n",
    "for elements in provenance:\n",
    "    element = elements.text\n",
    "    element_list = element.split(';')\n",
    "    for elem in element_list:\n",
    "        if 'his niece' in elem and not 'estate' in elem:\n",
    "            niece_nephew_items.append(elem)\n",
    "        if 'her niece' in elem and not 'estate' in elem:\n",
    "            niece_nephew_items.append(elem)\n",
    "        if 'his nephew' in elem and not 'estate' in elem:\n",
    "            niece_nephew_items.append(elem)\n",
    "        if 'her nephew' in elem and not 'estate' in elem:\n",
    "            niece_nephew_items.append(elem)"
   ]
  },
  {
   "cell_type": "code",
   "execution_count": 39,
   "metadata": {
    "collapsed": true
   },
   "outputs": [],
   "source": [
    "grand_items = list()\n",
    "for elements in provenance:\n",
    "    element = elements.text\n",
    "    element_list = element.split(';')\n",
    "    for elem in element_list:\n",
    "        if 'his granddaughter' in elem and not 'estate' in elem:\n",
    "            grand_items.append(elem)\n",
    "        if 'her granddaughter' in elem and not 'estate' in elem:\n",
    "            grand_items.append(elem)\n",
    "        if 'his grandson' in elem and not 'estate' in elem:\n",
    "            grand_items.append(elem)\n",
    "        if 'her grandson' in elem and not 'estate' in elem:\n",
    "            grand_items.append(elem)"
   ]
  },
  {
   "cell_type": "code",
   "execution_count": 36,
   "metadata": {},
   "outputs": [
    {
     "data": {
      "text/plain": [
       "6996"
      ]
     },
     "execution_count": 36,
     "metadata": {},
     "output_type": "execute_result"
    }
   ],
   "source": [
    "len(widow_items)"
   ]
  },
  {
   "cell_type": "code",
   "execution_count": 32,
   "metadata": {},
   "outputs": [
    {
     "data": {
      "text/plain": [
       "3325"
      ]
     },
     "execution_count": 32,
     "metadata": {},
     "output_type": "execute_result"
    }
   ],
   "source": [
    "len(bydescent_items)"
   ]
  },
  {
   "cell_type": "code",
   "execution_count": 33,
   "metadata": {},
   "outputs": [
    {
     "data": {
      "text/plain": [
       "8198"
      ]
     },
     "execution_count": 33,
     "metadata": {},
     "output_type": "execute_result"
    }
   ],
   "source": [
    "len(son_daughter_items)"
   ]
  },
  {
   "cell_type": "code",
   "execution_count": 25,
   "metadata": {},
   "outputs": [
    {
     "data": {
      "text/plain": [
       "987"
      ]
     },
     "execution_count": 25,
     "metadata": {},
     "output_type": "execute_result"
    }
   ],
   "source": [
    "len(niece_nephew_items)"
   ]
  },
  {
   "cell_type": "code",
   "execution_count": 40,
   "metadata": {},
   "outputs": [
    {
     "data": {
      "text/plain": [
       "794"
      ]
     },
     "execution_count": 40,
     "metadata": {},
     "output_type": "execute_result"
    }
   ],
   "source": [
    "len(grand_items)"
   ]
  },
  {
   "cell_type": "code",
   "execution_count": null,
   "metadata": {
    "collapsed": true
   },
   "outputs": [],
   "source": []
  }
 ],
 "metadata": {
  "kernelspec": {
   "display_name": "Python 3",
   "language": "python",
   "name": "python3"
  },
  "language_info": {
   "codemirror_mode": {
    "name": "ipython",
    "version": 3
   },
   "file_extension": ".py",
   "mimetype": "text/x-python",
   "name": "python",
   "nbconvert_exporter": "python",
   "pygments_lexer": "ipython3",
   "version": "3.6.3"
  }
 },
 "nbformat": 4,
 "nbformat_minor": 2
}
