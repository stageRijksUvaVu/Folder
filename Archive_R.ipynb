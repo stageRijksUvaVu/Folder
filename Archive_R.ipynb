{
 "cells": [
  {
   "cell_type": "code",
   "execution_count": 1,
   "metadata": {
    "collapsed": true
   },
   "outputs": [],
   "source": [
    "#Archive afkortingen namen\n",
    "Archief_afk_onderdelen = {'NA': 'Notarieel Archief', 'ONA': 'Oud Notarieel Archief', 'PA': 'Particulier Archief'}\n",
    "Archief_afk_namen = {'SA': 'Stadsarchief Amsterdam', 'GAL': 'Gemeente Archief Leiden', 'HNA': 'Het Nationaal Archief', 'GAR': 'Gemeente Archief Rotterdam','HUA': 'Het Utrechts Archief'}"
   ]
  },
  {
   "cell_type": "code",
   "execution_count": 1,
   "metadata": {
    "collapsed": true
   },
   "outputs": [],
   "source": [
    "import os\n",
    "from lxml import etree "
   ]
  },
  {
   "cell_type": "code",
   "execution_count": 2,
   "metadata": {
    "collapsed": true
   },
   "outputs": [],
   "source": [
    "doc = etree.parse('../Data/xml_data/provenance.xml')\n",
    "provenance = doc.findall('recordList/record/provenance/provenance.project.txt')\n",
    "for item in provenance:\n",
    "    if item.text == None:\n",
    "        provenance.remove(item)\n",
    "    else:\n",
    "        continue"
   ]
  },
  {
   "cell_type": "code",
   "execution_count": 3,
   "metadata": {
    "collapsed": true
   },
   "outputs": [],
   "source": [
    "estate_inventory_items = list()\n",
    "for elements in provenance:\n",
    "    element = elements.text\n",
    "    element_list = element.split(';')\n",
    "    for elem in element_list:\n",
    "        if 'Estate inventory' in elem:\n",
    "            estate_inventory_items.append(elem)\n",
    "        if 'estate inventory' in elem:\n",
    "            estate_inventory_items.append(elem)"
   ]
  },
  {
   "cell_type": "code",
   "execution_count": 7,
   "metadata": {},
   "outputs": [
    {
     "name": "stdout",
     "output_type": "stream",
     "text": [
      "{HRvA, Familiearchief Van Slingelandt, inv. no. 19, p. 9, no. 34.} ? their estate inventory, 1761\n",
      " ? estate inventory, Anna van Renesse, Lady of Assendelft (1622-67), Kasteel Assumburgh, near Heemstede, 1667, ‘Old gentleman’s room above the great chamber’ (‘een oud schilderije’)\n",
      " ? estate inventory Jan Six (1618-1700) and Margareta Tulp (1634-1709), Herengracht, Amsterdam, 6 January 1710, in the art room (‘Een avondtstondt van Aart van der Neer met beelden etc. [fl] 15’)\n",
      " ? estate inventory, Clara de Valaer (1584-1660), widow successfully of Eduart van Domselaer (1568-1624) and Hendrick van Domselaer (1580/81-1652), Amsterdam, 16 October 1660, as security (‘een stuk synde twee pauwen ende een kint van Rembrant’)\n",
      " Strauss et al. 1979, p. 461, doc. no. 1660/15 } ? estate inventory of her son, Tobias van Domselaer (1611-85), Amsterdam, September 1685 (‘een groot schilderij met twee paeuwen van Rembrandt’)\n",
      "? Estate inventory, Marten Davidsz van Ceulen (1617-87), Oudezijds Voorburgwal [no. 246], Amsterdam, Op de Saal, (‘Twee grootte schilderijen van Rembrandt, d’eene vande worstelingh Jacobs, ende d’ander vande verloocheninge van Petrus’)\n",
      " ? estate inventory of the notary Herman van der Ceel (? - 1662) Delft, 1652 'Een laggende tronie van Reynbrant'\n",
      " ? estate inventory, Ferdinand Bol (1616-80), Amsterdam, 8 October 1669 ('daer Joseph den droom uytleijt, van Rembrant')\n",
      "? Estate inventory, Eberhard Jabach (1618-95), Paris, 17 July 1696, no. 123 ('Portrait de Rimbrands, ayant un linge blanc autour de sa test, 1/2 figure grande comme le naturel, de luy-mesme. 100 liv[res]’)\n",
      " estate inventory, Commandery of St John, Haarlem, 1572, in the great hall (‘1 Tauoreel van Maria magdalena gemaect by meijster ian scorel’)\n",
      "{Van Bueren 1993, p. 351, 597.} estate inventory, Commandery of St John, Haarlem, 1606, in the commander’s chamber (‘Noch een Magdalena van Schoorl’)\n",
      "{Van Bueren 1993, pp. 351, 523, 597.} estate inventory, Commandery of St John, Haarlem, 1625, in the commander’s bedchamber (‘Een Taeffereeltgen van Maria magdalena’)\n",
      "{Van Bueren 1993, p. 155.} estate inventory, Prinsenhof, Haarlem, 28 April 1667, in the reception room (‘van maria magdalena’)\n",
      " ? estate inventory, Daniel Wulfraet, Amsterdam, 13 February 1673, (‘een Theagenes en Chariklea van Daniel Tievaert’), fl. 18\n",
      " ? his estate inventory, Huis Batenstein, near Vianen, 1556 (‘Les poinctures’ [...] ‘Monsiegnuer de Brederode//Madamme de Brederode’)\n",
      " ? estate inventory, Hendrik van Brederode (1531-68), Huis Batenstein, near Vianen, 1567 (‘In myn vrouwens stoeve // Twee taeffereelen van den ouden heer ende vrouwe van Brederode’)\n",
      " ? his estate inventory, Huis Batenstein, near Vianen, 16 June 1646, the counts’ chamber (‘Een en twyntich schilderijs als: heer Reynouwt [...]’)\n",
      " estate inventory her husband Hendrik Jacob van Tuyll van Serooskerken (1642-92), his house in Utrecht, 1692, (‘twee kleine geschilderde pourtraitjes van de oude heer van Nederhorst in swarte lijsjes’)\n",
      " ? estate inventory, Archduchess Margaret of Austria (1480-1530), 1524-30 (‘Ung tableau, paint d’ung cousté d’une Nostre-Dame et de l’autre du cardinal de Liège, fermant à deux fuilletz.’)\n",
      " estate inventory of Maria van Strijp (1627-1707), widow of Eduard Wallis, Haarlem, 17 April 1707, without attributions (‘Twee portretten van Eduard Wallis en Maria van Strijp’)\n",
      " ? estate inventory, James II (1633-1701), King of England, Whitehall, 15 February 1688, fol. 64r, no. 35 (‘By Holben. A mans head with a flat black Cap side face, with two hands in itt’)\n"
     ]
    }
   ],
   "source": [
    "for item in estate_inventory_items[0:21]:\n",
    "    print(item)"
   ]
  },
  {
   "cell_type": "code",
   "execution_count": 9,
   "metadata": {
    "collapsed": true
   },
   "outputs": [],
   "source": [
    "#code just for the items mentioning estate inventory\n",
    "\n",
    "for item in estate_inventory_items:\n",
    "    #possible parts of the provenance sentence\n",
    "    name = ''\n",
    "    name2 = '' # if there's a second owner\n",
    "    BDdate = '' #birth-death date\n",
    "    BDdate2 = ''\n",
    "    extra = ''\n",
    "    extra2 = ''\n",
    "    place = ''\n",
    "    date = '' #date of inventory\n",
    "    location = '' #location of work in house\n",
    "    no = '' #no in inventory\n",
    "    attribution = ''\n",
    "    description = ''\n",
    "    source = ''\n",
    "    start_source = ''\n",
    "    #fix possible missing comma at the start\n",
    "    if 'estate inventory ' in item:\n",
    "        item = item.replace('estate inventory', 'estate inventory,')\n",
    "    #saving the original, but fixed, item in case I need it\n",
    "    start_item = item\n",
    "    #certain or uncertain provenance\n",
    "    certain_uncertain = item.split('(')\n",
    "    if '?' in certain_uncertain[0]:\n",
    "        #provenance data is uncertain\n",
    "        proper_format = '?'\n",
    "        readable_sent = 'Possibly part of'\n",
    "    else:\n",
    "        #provenance data is certain\n",
    "        proper_format = ''\n",
    "        readable_sent = 'Part of'\n",
    "    \n",
    "    #source\n",
    "    #if item starts with source\n",
    "    if item.startswith('{') or item.startswith(' {'):\n",
    "        curly_split = item.split('}')\n",
    "        source = curly_split[0].replace('{', '').strip()\n",
    "        start_source = '{'+source+'}'\n",
    "    #if item ends with source\n",
    "    if '{' in item:\n",
    "        curly_split = item.split('{')\n",
    "        source = curly_split[1].replace('}', '').strip()\n",
    "        source = '{'+source+'}'\n",
    "    sourceless_item = start_item.replace(source,'').strip()\n",
    "    \n",
    "    #name owner\n",
    "    comma_split = sourceless_item.split(',')\n",
    "    #no owner name, owner name in previous provenance sentence\n",
    "    if 'his ' in comma_split[0]:\n",
    "        proper_format = f\"{proper_format} his\"\n",
    "        readable_sent = f\"{readable_sent} his\"\n",
    "    elif 'her ' in comma_split[0]:\n",
    "        proper_format = f\"{proper_format} her\"\n",
    "        readable_sent = f\"{readable_sent} her\"\n",
    "    elif 'their ' in comma_split[0]:\n",
    "        proper_format = f\"{proper_format} their\"\n",
    "        readable_sent = f\"{readable_sent} their\"\n",
    "    #owner name is mentioned\n",
    "    else:\n",
    "        name_elem = comma_split[1]\n",
    "        if 'and' in name_elem:\n",
    "            two_names = name_elem.split('and')\n",
    "            name_one = two_names[0]\n",
    "            name = name_one.strip()\n",
    "            if '(' in name_one:\n",
    "                name_one = name_one.split('(')\n",
    "                name = name_one[0].strip()\n",
    "                #BDdate person 1\n",
    "                BDdate = name_one[1].replace(')','').strip()\n",
    "            name_two = two_names[1]\n",
    "            name2 = name_two.strip()\n",
    "            if '(' in name_two:\n",
    "                name_two = name_two.split('(')\n",
    "                name2 = name_two[0].strip\n",
    "                #BDdate person 2\n",
    "                BDdate2 = name_two[1].replace(')','').strip()\n",
    "                \n",
    "    #inventory date\n",
    "    for item in comma_split:\n",
    "        if '1' in item or '2' in item and not '(' in item:\n",
    "            date = item\n",
    "        #no in inventory\n",
    "        if 'no.' in item:\n",
    "            no = item\n",
    "            if '(' in item:\n",
    "                split_item = item.split('(')\n",
    "                no = split_item[0]\n",
    "            \n",
    "    #description\n",
    "    para_split = sourceless_item.split('(')\n",
    "    for item in para_split:\n",
    "        if \"')\" in item:\n",
    "            item = item.split(')')\n",
    "            description = item[1].strip()   "
   ]
  },
  {
   "cell_type": "code",
   "execution_count": null,
   "metadata": {
    "collapsed": true
   },
   "outputs": [],
   "source": []
  }
 ],
 "metadata": {
  "kernelspec": {
   "display_name": "Python 3",
   "language": "python",
   "name": "python3"
  },
  "language_info": {
   "codemirror_mode": {
    "name": "ipython",
    "version": 3
   },
   "file_extension": ".py",
   "mimetype": "text/x-python",
   "name": "python",
   "nbconvert_exporter": "python",
   "pygments_lexer": "ipython3",
   "version": "3.6.3"
  }
 },
 "nbformat": 4,
 "nbformat_minor": 2
}
